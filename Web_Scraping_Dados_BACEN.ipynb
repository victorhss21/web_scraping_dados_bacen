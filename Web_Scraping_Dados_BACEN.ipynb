{
  "nbformat": 4,
  "nbformat_minor": 0,
  "metadata": {
    "colab": {
      "provenance": []
    },
    "kernelspec": {
      "name": "python3",
      "display_name": "Python 3"
    },
    "language_info": {
      "name": "python"
    }
  },
  "cells": [
    {
      "cell_type": "markdown",
      "source": [
        "## 01. Install e Import de Libs"
      ],
      "metadata": {
        "id": "LE2cf1HaJBES"
      }
    },
    {
      "cell_type": "code",
      "execution_count": 6,
      "metadata": {
        "colab": {
          "base_uri": "https://localhost:8080/"
        },
        "id": "FbzwOTSX9seD",
        "outputId": "d20e283a-7f22-4c28-ffb4-822fcf340a40"
      },
      "outputs": [
        {
          "output_type": "stream",
          "name": "stdout",
          "text": [
            "Requirement already satisfied: selenium in /usr/local/lib/python3.10/dist-packages (4.24.0)\n",
            "Requirement already satisfied: urllib3<3,>=1.26 in /usr/local/lib/python3.10/dist-packages (from urllib3[socks]<3,>=1.26->selenium) (2.0.7)\n",
            "Requirement already satisfied: trio~=0.17 in /usr/local/lib/python3.10/dist-packages (from selenium) (0.26.2)\n",
            "Requirement already satisfied: trio-websocket~=0.9 in /usr/local/lib/python3.10/dist-packages (from selenium) (0.11.1)\n",
            "Requirement already satisfied: certifi>=2021.10.8 in /usr/local/lib/python3.10/dist-packages (from selenium) (2024.8.30)\n",
            "Requirement already satisfied: typing_extensions~=4.9 in /usr/local/lib/python3.10/dist-packages (from selenium) (4.12.2)\n",
            "Requirement already satisfied: websocket-client~=1.8 in /usr/local/lib/python3.10/dist-packages (from selenium) (1.8.0)\n",
            "Requirement already satisfied: attrs>=23.2.0 in /usr/local/lib/python3.10/dist-packages (from trio~=0.17->selenium) (24.2.0)\n",
            "Requirement already satisfied: sortedcontainers in /usr/local/lib/python3.10/dist-packages (from trio~=0.17->selenium) (2.4.0)\n",
            "Requirement already satisfied: idna in /usr/local/lib/python3.10/dist-packages (from trio~=0.17->selenium) (3.8)\n",
            "Requirement already satisfied: outcome in /usr/local/lib/python3.10/dist-packages (from trio~=0.17->selenium) (1.3.0.post0)\n",
            "Requirement already satisfied: sniffio>=1.3.0 in /usr/local/lib/python3.10/dist-packages (from trio~=0.17->selenium) (1.3.1)\n",
            "Requirement already satisfied: exceptiongroup in /usr/local/lib/python3.10/dist-packages (from trio~=0.17->selenium) (1.2.2)\n",
            "Requirement already satisfied: wsproto>=0.14 in /usr/local/lib/python3.10/dist-packages (from trio-websocket~=0.9->selenium) (1.2.0)\n",
            "Requirement already satisfied: pysocks!=1.5.7,<2.0,>=1.5.6 in /usr/local/lib/python3.10/dist-packages (from urllib3[socks]<3,>=1.26->selenium) (1.7.1)\n",
            "Requirement already satisfied: h11<1,>=0.9.0 in /usr/local/lib/python3.10/dist-packages (from wsproto>=0.14->trio-websocket~=0.9->selenium) (0.14.0)\n",
            "Requirement already satisfied: webdriver_manager in /usr/local/lib/python3.10/dist-packages (4.0.2)\n",
            "Requirement already satisfied: requests in /usr/local/lib/python3.10/dist-packages (from webdriver_manager) (2.32.3)\n",
            "Requirement already satisfied: python-dotenv in /usr/local/lib/python3.10/dist-packages (from webdriver_manager) (1.0.1)\n",
            "Requirement already satisfied: packaging in /usr/local/lib/python3.10/dist-packages (from webdriver_manager) (24.1)\n",
            "Requirement already satisfied: charset-normalizer<4,>=2 in /usr/local/lib/python3.10/dist-packages (from requests->webdriver_manager) (3.3.2)\n",
            "Requirement already satisfied: idna<4,>=2.5 in /usr/local/lib/python3.10/dist-packages (from requests->webdriver_manager) (3.8)\n",
            "Requirement already satisfied: urllib3<3,>=1.21.1 in /usr/local/lib/python3.10/dist-packages (from requests->webdriver_manager) (2.0.7)\n",
            "Requirement already satisfied: certifi>=2017.4.17 in /usr/local/lib/python3.10/dist-packages (from requests->webdriver_manager) (2024.8.30)\n"
          ]
        }
      ],
      "source": [
        "# Instalando libs\n",
        "!pip install selenium\n",
        "!pip install webdriver_manager"
      ]
    },
    {
      "cell_type": "code",
      "source": [
        "# Import d libs\n",
        "from selenium import webdriver\n",
        "from selenium.webdriver.common.by import By\n",
        "from selenium.webdriver.chrome.service import Service\n",
        "from selenium.webdriver.support.ui import WebDriverWait\n",
        "from selenium.webdriver.support import expected_conditions as EC\n",
        "from selenium.webdriver.common.action_chains import ActionChains\n",
        "from webdriver_manager.chrome import ChromeDriverManager\n",
        "import time\n",
        "import os"
      ],
      "metadata": {
        "id": "4yP0mFXeI7K0"
      },
      "execution_count": 7,
      "outputs": []
    },
    {
      "cell_type": "markdown",
      "source": [
        "# 02. Baixa dados BACEN de frequência mensal"
      ],
      "metadata": {
        "id": "HI0L2V0fJKks"
      }
    },
    {
      "cell_type": "code",
      "source": [
        "# Configurar o navegador\n",
        "options = webdriver.ChromeOptions()\n",
        "options.add_argument(\"--headless\")  # Modo headless (sem interface gráfica)\n",
        "options.add_experimental_option(\"prefs\", {\n",
        "    \"download.default_directory\": os.getcwd().replace('\\\\','/').replace('c:',''),  # Defina o diretório de download ou deixe que seja especificado o diretório atual\n",
        "    \"download.prompt_for_download\": False,\n",
        "})\n",
        "\n",
        "# Iniciar o navegador\n",
        "driver = webdriver.Chrome(service=Service(ChromeDriverManager().install()), options=options)\n",
        "\n",
        "# Acessar a página\n",
        "url = 'https://www.bcb.gov.br/estatisticas/detalhamentoGrafico/graficosspb/MeiosPagamentosValor'\n",
        "driver.get(url)\n",
        "\n",
        "# Aguardar o botão do gráfico estar presente\n",
        "wait = WebDriverWait(driver, 25)\n",
        "menu_button = wait.until(EC.element_to_be_clickable((By.CLASS_NAME, 'highcharts-contextbutton')))\n",
        "\n",
        "# Clicar no botão de menu\n",
        "menu_button.click()\n",
        "\n",
        "# Selecionar a opção para baixar o arquivo XLS usando ActionChains\n",
        "xls_button = wait.until(EC.element_to_be_clickable((By.XPATH, \"//li[contains(text(), 'Baixar arquivo XLS')]\")))\n",
        "\n",
        "# Executar o clique no botão usando JavaScript\n",
        "driver.execute_script(\"arguments[0].click();\", xls_button)\n",
        "\n",
        "# Aguarde alguns segundos para que o download seja finalizado\n",
        "time.sleep(8)  # Ajuste o tempo se necessário\n",
        "\n",
        "# Fechar o navegador\n",
        "driver.quit()\n",
        "\n",
        "print(\"Download concluído!\")"
      ],
      "metadata": {
        "id": "IhhPoJ5X9yxx"
      },
      "execution_count": null,
      "outputs": []
    },
    {
      "cell_type": "markdown",
      "source": [
        "# 03. Baixa dados BACEN de frequência trimestral"
      ],
      "metadata": {
        "id": "XE87_5YwJXvq"
      }
    },
    {
      "cell_type": "code",
      "source": [
        "# Configurar o navegador\n",
        "options = webdriver.ChromeOptions()\n",
        "options.add_argument(\"--headless\")  # Modo headless (sem interface gráfica)\n",
        "options.add_experimental_option(\"prefs\", {\n",
        "    \"download.default_directory\": os.getcwd().replace('\\\\','/').replace('c:',''),  # Defina o diretório de download ou deixe que seja especificado o diretório atual\n",
        "    \"download.prompt_for_download\": False,\n",
        "})\n",
        "\n",
        "# Iniciar o navegador\n",
        "driver = webdriver.Chrome(service=Service(ChromeDriverManager().install()), options=options)\n",
        "\n",
        "# Acessar a página\n",
        "url = 'https://www.bcb.gov.br/estatisticas/detalhamentoGrafico/graficosspb/MeiosPagamentosValortrimestralConsolidado'\n",
        "driver.get(url)\n",
        "\n",
        "# Aguardar o botão do gráfico estar presente\n",
        "wait = WebDriverWait(driver, 25)\n",
        "menu_button = wait.until(EC.element_to_be_clickable((By.CLASS_NAME, 'highcharts-contextbutton')))\n",
        "\n",
        "# Clicar no botão de menu\n",
        "menu_button.click()\n",
        "\n",
        "# Selecionar a opção para baixar o arquivo XLS usando ActionChains\n",
        "xls_button = wait.until(EC.element_to_be_clickable((By.XPATH, \"//li[contains(text(), 'Baixar arquivo XLS')]\")))\n",
        "\n",
        "# Executar o clique no botão usando JavaScript\n",
        "driver.execute_script(\"arguments[0].click();\", xls_button)\n",
        "\n",
        "# Aguarde alguns segundos para que o download seja finalizado\n",
        "time.sleep(8)  # Ajuste o tempo se necessário\n",
        "\n",
        "# Fechar o navegador\n",
        "driver.quit()\n",
        "\n",
        "print(\"Download concluído!\")"
      ],
      "metadata": {
        "id": "WLcYthM0Jbgq"
      },
      "execution_count": null,
      "outputs": []
    }
  ]
}